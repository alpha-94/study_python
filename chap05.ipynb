{
 "cells": [
  {
   "cell_type": "markdown",
   "metadata": {},
   "source": [
    "# 함수"
   ]
  },
  {
   "cell_type": "code",
   "execution_count": 1,
   "metadata": {},
   "outputs": [
    {
     "name": "stdout",
     "output_type": "stream",
     "text": [
      "hello Python!\n"
     ]
    }
   ],
   "source": [
    "# 함수 정의 방법\n",
    "\n",
    "def hello():\n",
    "    print('hello Python!')\n",
    "    \n",
    "hello() # 함수 호출 방법 "
   ]
  },
  {
   "cell_type": "code",
   "execution_count": 4,
   "metadata": {},
   "outputs": [
    {
     "name": "stdout",
     "output_type": "stream",
     "text": [
      "10\n",
      "<function my_abs at 0x000001CAAFBFD048>\n"
     ]
    }
   ],
   "source": [
    "# 호출과 반환 \n",
    "\n",
    "def my_abs(arg):\n",
    "    if (arg<0):\n",
    "        result = arg * -1\n",
    "    else:\n",
    "        result = arg\n",
    "        \n",
    "    return result\n",
    "\n",
    "# my_abs() # 변수를 넣지 않을 경우 :: TypeError: my_abs() missing 1 required positional argument: 'arg'\n",
    "\n",
    "print(my_abs(-10))\n",
    "print(my_abs) # <function my_abs at 0x000001CAAFBFD048> :: 메모리 주소값 확인 \n",
    "\n"
   ]
  },
  {
   "cell_type": "code",
   "execution_count": 5,
   "metadata": {},
   "outputs": [
    {
     "name": "stdout",
     "output_type": "stream",
     "text": [
      "안녕하세요 ! \n",
      "안녕하세요 ! \n",
      "안녕하세요 ! \n"
     ]
    }
   ],
   "source": [
    "# 인자(argument) 이름의 올바른 예\n",
    "def print_string1(text, count):\n",
    "    for i in range(count):\n",
    "        print(text)\n",
    "        \n",
    "print_string1('안녕하세요 ! ',3)"
   ]
  },
  {
   "cell_type": "code",
   "execution_count": 7,
   "metadata": {},
   "outputs": [
    {
     "name": "stdout",
     "output_type": "stream",
     "text": [
      "안녕하세요 ! \n"
     ]
    }
   ],
   "source": [
    "# 기본값 인자(default argument value)\n",
    "\n",
    "def print_string2(text, count=1): # 인자값 초기화 \n",
    "    for i in range(count):\n",
    "        print(text)\n",
    "\n",
    "#print_string2('안녕하세요 ! ',5)\n",
    "print_string2('안녕하세요 ! ')"
   ]
  },
  {
   "cell_type": "markdown",
   "metadata": {},
   "source": [
    "## - 키워드 인자(Keyword Argument)\n",
    "       : 호출자가 매개변수의 이름을 일일이 지정해 데이터를 입력하는 것."
   ]
  },
  {
   "cell_type": "code",
   "execution_count": 9,
   "metadata": {},
   "outputs": [
    {
     "name": "stdout",
     "output_type": "stream",
     "text": [
      "name=홍길동\n",
      "position=student\n",
      "nationlity=American\n"
     ]
    }
   ],
   "source": [
    "def print_personnel(name, position='staff', nationlity='Korea'):\n",
    "    print('name={0}'.format(name))\n",
    "    print('position={0}'.format(position))\n",
    "    print('nationlity={0}'.format(nationlity))\n",
    "\n",
    "print_personnel('홍길동','student','American')\n"
   ]
  },
  {
   "cell_type": "code",
   "execution_count": 10,
   "metadata": {},
   "outputs": [
    {
     "name": "stdout",
     "output_type": "stream",
     "text": [
      "name=홍길동\n",
      "position=student\n",
      "nationlity=Korea\n"
     ]
    }
   ],
   "source": [
    "print_personnel('홍길동','student')"
   ]
  },
  {
   "cell_type": "code",
   "execution_count": 11,
   "metadata": {},
   "outputs": [
    {
     "name": "stdout",
     "output_type": "stream",
     "text": [
      "name=홍길동\n",
      "position=staff\n",
      "nationlity=Korea\n"
     ]
    }
   ],
   "source": [
    "print_personnel('홍길동')"
   ]
  },
  {
   "cell_type": "code",
   "execution_count": 14,
   "metadata": {},
   "outputs": [
    {
     "name": "stdout",
     "output_type": "stream",
     "text": [
      "name=강감찬\n",
      "position=staff\n",
      "nationlity=Korea\n",
      "************************************************\n",
      "name=홍길동\n",
      "position=staff\n",
      "nationlity=japan\n"
     ]
    }
   ],
   "source": [
    "print_personnel(name='강감찬')\n",
    "# print_personnel(nationlity='Japan') # print_personnel() missing 1 required positional argument: 'name'\n",
    "# 함수 지정 시 인자 값을 초기화 하지 않았으므로 name 인자에 변수가 들어가지 않았기 때문에 오류 발생 \n",
    "print('************************************************')\n",
    "print_personnel(nationlity = 'japan',name = '홍길동')"
   ]
  },
  {
   "cell_type": "markdown",
   "metadata": {},
   "source": [
    "## - 가변 매개 변수(Arbirtary Argument List)"
   ]
  },
  {
   "cell_type": "code",
   "execution_count": 16,
   "metadata": {},
   "outputs": [
    {
     "name": "stdout",
     "output_type": "stream",
     "text": [
      "<class 'tuple'>\n"
     ]
    },
    {
     "data": {
      "text/plain": [
       "'아버지가 방에 들어가신다'"
      ]
     },
     "execution_count": 16,
     "metadata": {},
     "output_type": "execute_result"
    }
   ],
   "source": [
    "def maege_string(*text_list): # * 의미 :: 가변적으로 데이터 전달 받게끔 해준다 .\n",
    "    print(type(text_list)) # <class 'tuple'> -> 가변데이터를 반환하면 튜플로 반환해줌 ! \n",
    "    \n",
    "    result = ''\n",
    "    for s in text_list:\n",
    "        result += s\n",
    "        \n",
    "    return result\n",
    "\n",
    "maege_string('아버지가 ','방에 ','들어가신다')"
   ]
  },
  {
   "cell_type": "code",
   "execution_count": 19,
   "metadata": {},
   "outputs": [
    {
     "name": "stdout",
     "output_type": "stream",
     "text": [
      "<class 'dict'>\n",
      "손흥민=축구\n",
      "류현진=야구\n",
      "서장훈=농구\n"
     ]
    }
   ],
   "source": [
    "def print_team(**players):\n",
    "    print(type(players))\n",
    "    \n",
    "    for k in players.keys():\n",
    "        print('{0}={1}'.format(k,players[k]))\n",
    "        \n",
    "print_team(손흥민='축구',류현진='야구',서장훈='농구') # (key = 'value')"
   ]
  },
  {
   "cell_type": "code",
   "execution_count": 22,
   "metadata": {},
   "outputs": [
    {
     "name": "stdout",
     "output_type": "stream",
     "text": [
      "홍길동\n",
      "강감찬\n"
     ]
    }
   ],
   "source": [
    "def print_args1(argc, *argv):\n",
    "    for i in range(argc):\n",
    "        print(argv[i])\n",
    "        \n",
    "print_args1(2, '홍길동','강감찬')"
   ]
  },
  {
   "cell_type": "code",
   "execution_count": 25,
   "metadata": {},
   "outputs": [
    {
     "ename": "SyntaxError",
     "evalue": "positional argument follows keyword argument (<ipython-input-25-d2399257b513>, line 2)",
     "output_type": "error",
     "traceback": [
      "\u001b[1;36m  File \u001b[1;32m\"<ipython-input-25-d2399257b513>\"\u001b[1;36m, line \u001b[1;32m2\u001b[0m\n\u001b[1;33m    print_args1(argc=2,'홍길동','강감찬') # SyntaxError: positional argument follows keyword argument\u001b[0m\n\u001b[1;37m                      ^\u001b[0m\n\u001b[1;31mSyntaxError\u001b[0m\u001b[1;31m:\u001b[0m positional argument follows keyword argument\n"
     ]
    }
   ],
   "source": [
    "# 주의 \n",
    "#print_args1(argc=2,'홍길동','강감찬') # SyntaxError: positional argument follows keyword argument\n",
    "# 인자 변수를 넣게 되면 순서가 상관없게 되는데 , 만약 가변인자가 포함되어 있는 함수라면\n",
    "#순서의 기준이 모호해 지기 때문에 함수의 오류가 생긴다.\n",
    "# 가변인자가 포함되어 있는 함수는 인자변수를 넣지 않아야 한다 . \n",
    "\n",
    "#print_args1(홍길동',argc=2 ,'강감찬') # 얘도 마찬가지"
   ]
  },
  {
   "cell_type": "code",
   "execution_count": 28,
   "metadata": {},
   "outputs": [
    {
     "name": "stdout",
     "output_type": "stream",
     "text": [
      "홍길동\n",
      "강감찬\n"
     ]
    }
   ],
   "source": [
    "def print_args1(*argv,argc):\n",
    "    for i in range(argc):\n",
    "        print(argv[i])\n",
    "\n",
    "        \n",
    "#print_args1('홍길동','강감찬',2) # error :: 가변인자가 먼저 오는 경우는 뒤에 인자변수를 넣지 않으면 가변인자로 받아들이기 때문에 오류 \n",
    "print_args1('홍길동','강감찬',argc=2)"
   ]
  },
  {
   "cell_type": "code",
   "execution_count": 29,
   "metadata": {},
   "outputs": [
    {
     "name": "stdout",
     "output_type": "stream",
     "text": [
      "15\n"
     ]
    }
   ],
   "source": [
    "# 호출자에게 반환하기 \n",
    "\n",
    "def multiply(a,b):\n",
    "    return a*b # 1. 함수 즉시 종료 / 2. 호출자에게 결과 전달 \n",
    "\n",
    "result = multiply(3,5)\n",
    "print(result)"
   ]
  },
  {
   "cell_type": "code",
   "execution_count": 30,
   "metadata": {},
   "outputs": [
    {
     "name": "stdout",
     "output_type": "stream",
     "text": [
      "50\n"
     ]
    }
   ],
   "source": [
    "# 한 함수 안에 여려개의 return 배치 가능.\n",
    "\n",
    "def my_abs1(arg):\n",
    "    if (arg<0):\n",
    "        return arg * -1\n",
    "    else:\n",
    "        return arg\n",
    "\n",
    "result = my_abs1(-50)\n",
    "print(result)"
   ]
  },
  {
   "cell_type": "code",
   "execution_count": 35,
   "metadata": {},
   "outputs": [
    {
     "name": "stdout",
     "output_type": "stream",
     "text": [
      "None\n",
      "<class 'NoneType'>\n"
     ]
    }
   ],
   "source": [
    "# 주의 \n",
    "def my_abs2(arg):\n",
    "    if arg < 0:\n",
    "        return arg * -1\n",
    "    elif arg > 0:\n",
    "        return arg\n",
    "    \n",
    "result = my_abs2(0)\n",
    "print(result) # None -> 변수는 선언 되어있지만 값이 한번도 전달받지 않는 경우 \n",
    "print(type(result)) # <class 'NoneType'>"
   ]
  },
  {
   "cell_type": "code",
   "execution_count": 39,
   "metadata": {},
   "outputs": [
    {
     "name": "stdout",
     "output_type": "stream",
     "text": [
      "1\n",
      "2\n",
      "3\n"
     ]
    }
   ],
   "source": [
    "def ogamdo(num):\n",
    "    for i in range(1, num+1):\n",
    "        print('{0}'.format(i))\n",
    "        if i ==5:\n",
    "            return \n",
    "        \n",
    "ogamdo(3)"
   ]
  },
  {
   "cell_type": "code",
   "execution_count": 38,
   "metadata": {},
   "outputs": [
    {
     "name": "stdout",
     "output_type": "stream",
     "text": [
      "1\n",
      "2\n",
      "3\n",
      "4\n",
      "5\n"
     ]
    }
   ],
   "source": [
    "ogamdo(8)"
   ]
  },
  {
   "cell_type": "markdown",
   "metadata": {},
   "source": [
    "# 변수의 유효범위(scope)"
   ]
  },
  {
   "cell_type": "code",
   "execution_count": 40,
   "metadata": {},
   "outputs": [
    {
     "name": "stdout",
     "output_type": "stream",
     "text": [
      "a:1\n",
      "a:0\n"
     ]
    }
   ],
   "source": [
    "def scope_test1():\n",
    "    a=1\n",
    "    print('a:{0}'.format(a))\n",
    "    \n",
    "a = 0\n",
    "scope_test1()\n",
    "print('a:{0}'.format(a))"
   ]
  },
  {
   "cell_type": "code",
   "execution_count": 41,
   "metadata": {},
   "outputs": [
    {
     "name": "stdout",
     "output_type": "stream",
     "text": [
      "a:0\n",
      "a:0\n"
     ]
    }
   ],
   "source": [
    "def scope_test1():\n",
    "    #a=1 # 함수 호출 시 메모리 생성 = 지역변수\n",
    "    print('a:{0}'.format(a))\n",
    "    \n",
    "a = 0 # 함수 밖 변수 선언 \n",
    "scope_test1()\n",
    "print('a:{0}'.format(a))"
   ]
  },
  {
   "cell_type": "code",
   "execution_count": 42,
   "metadata": {},
   "outputs": [
    {
     "name": "stdout",
     "output_type": "stream",
     "text": [
      "c:0\n",
      "c:1\n",
      "c:1\n"
     ]
    }
   ],
   "source": [
    "def scope_test2():\n",
    "    global c # 전역변수 , 지역변수의 생성을 막는다 .\n",
    "    c = 1\n",
    "    print('c:{0}'.format(c))\n",
    "\n",
    "c=0\n",
    "print('c:{0}'.format(c))\n",
    "scope_test2()\n",
    "print('c:{0}'.format(c))"
   ]
  },
  {
   "cell_type": "code",
   "execution_count": 43,
   "metadata": {},
   "outputs": [
    {
     "name": "stdout",
     "output_type": "stream",
     "text": [
      "1234\n"
     ]
    }
   ],
   "source": [
    "# 함수를 변수에 담아 사용\n",
    "def print_something(a):\n",
    "    print(a)\n",
    "\n",
    "print_something(1234)"
   ]
  },
  {
   "cell_type": "code",
   "execution_count": 44,
   "metadata": {},
   "outputs": [
    {
     "name": "stdout",
     "output_type": "stream",
     "text": [
      "123\n",
      "1234\n"
     ]
    }
   ],
   "source": [
    "p = print_something\n",
    "p(123)\n",
    "p('1234')"
   ]
  },
  {
   "cell_type": "code",
   "execution_count": 45,
   "metadata": {},
   "outputs": [
    {
     "name": "stdout",
     "output_type": "stream",
     "text": [
      "3\n",
      "-1\n"
     ]
    }
   ],
   "source": [
    "# 함수 -> 딕셔너리 저장 \n",
    "\n",
    "def plus(a,b):\n",
    "    return a + b\n",
    "\n",
    "def minus(a,b):\n",
    "    return a-b\n",
    "\n",
    "flist = [plus, minus]\n",
    "\n",
    "print(flist[0](1,2))\n",
    "print(flist[1](1,2))"
   ]
  },
  {
   "cell_type": "code",
   "execution_count": 46,
   "metadata": {},
   "outputs": [
    {
     "name": "stdout",
     "output_type": "stream",
     "text": [
      "안녕하세요 ! \n",
      "hello!\n"
     ]
    }
   ],
   "source": [
    "# 함수의 매개변수에 함수 전달 기능\n",
    "\n",
    "def hello_korea():\n",
    "    print('안녕하세요 ! ')\n",
    "    \n",
    "def hello_english():\n",
    "    print('hello!')\n",
    "\n",
    "def greet(hello):\n",
    "    hello()\n",
    "    \n",
    "greet(hello_korea)\n",
    "greet(hello_english)"
   ]
  },
  {
   "cell_type": "code",
   "execution_count": 54,
   "metadata": {},
   "outputs": [
    {
     "name": "stdout",
     "output_type": "stream",
     "text": [
      "안녕하세요 ! \n",
      "hello!\n"
     ]
    }
   ],
   "source": [
    "# 함수 내 함수를 반환\n",
    "def get_greeting(where):\n",
    "    if where == 'K':\n",
    "        return hello_korea\n",
    "    else:\n",
    "        return hello_english\n",
    "    \n",
    "hello = get_greeting('K')\n",
    "hello()\n",
    "hello = get_greeting('E')\n",
    "hello()"
   ]
  },
  {
   "cell_type": "markdown",
   "metadata": {},
   "source": [
    "# - 중첩함수"
   ]
  },
  {
   "cell_type": "code",
   "execution_count": 56,
   "metadata": {},
   "outputs": [
    {
     "name": "stdout",
     "output_type": "stream",
     "text": [
      "0.6\n"
     ]
    }
   ],
   "source": [
    "import math\n",
    "\n",
    "def stddev(*args):\n",
    "    def mean(): # 중첩함수 :: 평균값 \n",
    "        return sum(args) / len(args)\n",
    "    \n",
    "    def variance(m): # 중첩함수 :: 분산값 \n",
    "        total = 0 \n",
    "        \n",
    "        for arg in args:\n",
    "            total += (arg-m) **2\n",
    "            \n",
    "        return total / (len(args) - 1) # 자유도 \n",
    "    \n",
    "    v = variance(mean())\n",
    "    \n",
    "    return math.sqrt(v)\n",
    "\n",
    "print(stddev(2.3, 1.7, 1.4, 0.7, 1.9))"
   ]
  },
  {
   "cell_type": "code",
   "execution_count": 58,
   "metadata": {},
   "outputs": [],
   "source": [
    "#print(mean()) #NameError: name 'mean' is not defined  - 중첩 함수는 외부에서 호출 불가능 ! "
   ]
  },
  {
   "cell_type": "code",
   "execution_count": 61,
   "metadata": {},
   "outputs": [],
   "source": [
    "# pass : 기능의 구현을 잠시 미루기 .\n",
    "\n",
    "def empty_function(): # SyntaxError: unexpected EOF while parsing :: 빈 공간인 경우의 오류\n",
    "    pass # 만약 함수 구현 시 빈공간이거나 오류가 발생할 경우 pass 를 실행하면 기능구현을 미룰 수 있다 .\n",
    "\n",
    "empty_function() # pass 가 있기때문에 문제 없음 .\n",
    "\n",
    "# cf: 클래스 지정할때 ! \n",
    "\n",
    "class empty_class:\n",
    "    pass"
   ]
  },
  {
   "cell_type": "code",
   "execution_count": null,
   "metadata": {},
   "outputs": [],
   "source": []
  },
  {
   "cell_type": "code",
   "execution_count": null,
   "metadata": {},
   "outputs": [],
   "source": []
  },
  {
   "cell_type": "code",
   "execution_count": null,
   "metadata": {},
   "outputs": [],
   "source": []
  },
  {
   "cell_type": "code",
   "execution_count": null,
   "metadata": {},
   "outputs": [],
   "source": []
  },
  {
   "cell_type": "code",
   "execution_count": null,
   "metadata": {},
   "outputs": [],
   "source": []
  },
  {
   "cell_type": "code",
   "execution_count": null,
   "metadata": {},
   "outputs": [],
   "source": []
  },
  {
   "cell_type": "code",
   "execution_count": null,
   "metadata": {},
   "outputs": [],
   "source": []
  },
  {
   "cell_type": "code",
   "execution_count": null,
   "metadata": {},
   "outputs": [],
   "source": []
  },
  {
   "cell_type": "code",
   "execution_count": null,
   "metadata": {},
   "outputs": [],
   "source": []
  },
  {
   "cell_type": "code",
   "execution_count": null,
   "metadata": {},
   "outputs": [],
   "source": []
  },
  {
   "cell_type": "code",
   "execution_count": null,
   "metadata": {},
   "outputs": [],
   "source": []
  },
  {
   "cell_type": "code",
   "execution_count": null,
   "metadata": {},
   "outputs": [],
   "source": []
  },
  {
   "cell_type": "code",
   "execution_count": null,
   "metadata": {},
   "outputs": [],
   "source": []
  },
  {
   "cell_type": "code",
   "execution_count": null,
   "metadata": {},
   "outputs": [],
   "source": []
  },
  {
   "cell_type": "code",
   "execution_count": null,
   "metadata": {},
   "outputs": [],
   "source": []
  },
  {
   "cell_type": "code",
   "execution_count": null,
   "metadata": {},
   "outputs": [],
   "source": []
  },
  {
   "cell_type": "code",
   "execution_count": null,
   "metadata": {},
   "outputs": [],
   "source": []
  },
  {
   "cell_type": "code",
   "execution_count": null,
   "metadata": {},
   "outputs": [],
   "source": []
  },
  {
   "cell_type": "code",
   "execution_count": null,
   "metadata": {},
   "outputs": [],
   "source": []
  },
  {
   "cell_type": "code",
   "execution_count": null,
   "metadata": {},
   "outputs": [],
   "source": []
  },
  {
   "cell_type": "code",
   "execution_count": null,
   "metadata": {},
   "outputs": [],
   "source": []
  },
  {
   "cell_type": "code",
   "execution_count": null,
   "metadata": {},
   "outputs": [],
   "source": []
  },
  {
   "cell_type": "code",
   "execution_count": null,
   "metadata": {},
   "outputs": [],
   "source": []
  },
  {
   "cell_type": "code",
   "execution_count": null,
   "metadata": {},
   "outputs": [],
   "source": []
  },
  {
   "cell_type": "code",
   "execution_count": null,
   "metadata": {},
   "outputs": [],
   "source": []
  },
  {
   "cell_type": "code",
   "execution_count": null,
   "metadata": {},
   "outputs": [],
   "source": []
  },
  {
   "cell_type": "code",
   "execution_count": null,
   "metadata": {},
   "outputs": [],
   "source": []
  },
  {
   "cell_type": "code",
   "execution_count": null,
   "metadata": {},
   "outputs": [],
   "source": []
  },
  {
   "cell_type": "code",
   "execution_count": null,
   "metadata": {},
   "outputs": [],
   "source": []
  }
 ],
 "metadata": {
  "kernelspec": {
   "display_name": "Python 3",
   "language": "python",
   "name": "python3"
  },
  "language_info": {
   "codemirror_mode": {
    "name": "ipython",
    "version": 3
   },
   "file_extension": ".py",
   "mimetype": "text/x-python",
   "name": "python",
   "nbconvert_exporter": "python",
   "pygments_lexer": "ipython3",
   "version": "3.7.7"
  }
 },
 "nbformat": 4,
 "nbformat_minor": 4
}
